{
  "nbformat": 4,
  "nbformat_minor": 0,
  "metadata": {
    "colab": {
      "provenance": [],
      "authorship_tag": "ABX9TyOIycivVIGU4iXEYNWbApdf",
      "include_colab_link": true
    },
    "kernelspec": {
      "name": "python3",
      "display_name": "Python 3"
    },
    "language_info": {
      "name": "python"
    }
  },
  "cells": [
    {
      "cell_type": "markdown",
      "metadata": {
        "id": "view-in-github",
        "colab_type": "text"
      },
      "source": [
        "<a href=\"https://colab.research.google.com/github/AbirShimanto/Forward_propagations/blob/main/Forward_propagations.ipynb\" target=\"_parent\"><img src=\"https://colab.research.google.com/assets/colab-badge.svg\" alt=\"Open In Colab\"/></a>"
      ]
    },
    {
      "cell_type": "code",
      "execution_count": null,
      "metadata": {
        "id": "qss3lfxjECpU"
      },
      "outputs": [],
      "source": [
        "import numpy as np\n",
        "\n",
        "#Getting input data\n",
        "input_data = np.array([2,3])\n",
        "\n",
        "#Dictionary\n",
        "weights = {\n",
        "    'node_0' : np.array([1,1]),\n",
        "    'node_1' : np.array([-1,1]),\n",
        "    'output'  : np.array([2,-1])\n",
        "}"
      ]
    },
    {
      "cell_type": "code",
      "source": [
        "#calculate value of 0\n",
        "node_0_value = (input_data * weights['node_0']).sum()\n",
        "\n",
        "#calculate value of 1\n",
        "node_1_value = (input_data * weights['node_1']).sum()\n",
        "\n",
        "#set the node's value at the array\n",
        "hidden_layer_outputs = np.array([node_0_value,node_1_value])\n",
        "\n",
        "#calculate the output\n",
        "output = (hidden_layer_outputs * weights['output']).sum()"
      ],
      "metadata": {
        "id": "nI5nfq1eFbDb"
      },
      "execution_count": null,
      "outputs": []
    },
    {
      "cell_type": "code",
      "source": [
        "#print output\n",
        "print(output)"
      ],
      "metadata": {
        "colab": {
          "base_uri": "https://localhost:8080/"
        },
        "id": "AtToiCHyGTZX",
        "outputId": "548d6fd7-a2cf-4dae-8c4e-fa6b38860d2a"
      },
      "execution_count": null,
      "outputs": [
        {
          "output_type": "stream",
          "name": "stdout",
          "text": [
            "9\n"
          ]
        }
      ]
    }
  ]
}